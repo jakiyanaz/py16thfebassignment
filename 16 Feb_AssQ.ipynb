{
 "cells": [
  {
   "cell_type": "markdown",
   "id": "71e1bdc4-fe91-4e30-82c3-6870ff45805c",
   "metadata": {},
   "source": [
    "Q1. What is a database? Differentiate between SQL and NoSQL databases."
   ]
  },
  {
   "cell_type": "markdown",
   "id": "db286684-e97b-480d-af78-ace52ace77a4",
   "metadata": {},
   "source": [
    "Ans: \n",
    "    \n",
    "    SQL:\n",
    "        1. RELATIONAL DATABASE MANAGEMENT SYSTEM (RDBMS)\n",
    "        2. These databases have fixed or static or predefined schema\n",
    "        3. These databases are not suited for hierarchical data storage.\n",
    "        4. These databases are best suited for complex queries\n",
    "        5. Vertically Scalable\n",
    "        6. Follows ACID property\n",
    "        7. Examples: MySQL, PostgreSQL, Oracle, MS-SQL Server, etc\n",
    "    \n",
    "    NoSQL:\n",
    "        1. Non-relational or distributed database system.\n",
    "        2. They have dynamic schema\n",
    "        3. These databases are best suited for hierarchical data storage.\n",
    "        4. These databases are not so good for complex queries\n",
    "        5. Horizontally scalable\n",
    "        6. Follows CAP(consistency, availability, partition tolerance)\n",
    "        7. Examples: MongoDB, GraphQL, HBase, Neo4j, Cassandra, etc"
   ]
  },
  {
   "cell_type": "markdown",
   "id": "da5b036b-370b-4542-be71-eab60017f4c7",
   "metadata": {},
   "source": [
    "Q2. What is DDL? Explain why CREATE, DROP, ALTER, and TRUNCATE are used with an example."
   ]
  },
  {
   "cell_type": "markdown",
   "id": "db22d695-2ef8-4641-b4ff-f599946b2904",
   "metadata": {},
   "source": [
    "Ans: DDL describes the portion of SQL that creates, alters, and deletes database objects. These database objects include schemas, tables, views, sequences, catalogs, indexes, and aliases.\n",
    "\n",
    "    1. CREATE: This command is used to create the database or its objects (like table, index, function, views, store procedure, and triggers).\n",
    "        Example: CREATE DATABASE test\n",
    "    \n",
    "    2. DROP: This command is used to delete objects from the database.\n",
    "        Example: DROP DATABASE test\n",
    "        \n",
    "    3. ALTER: This is used to alter the structure of the database.\n",
    "        Example: ALTER TABLE Students\n",
    "                ADD Email varchar(255);\n",
    "    \n",
    "    4. TRUNCATE: This is used to remove all records from a table, including all spaces allocated for the records are removed.\n",
    "        Example: TRUNCATE TABLE Student_details;"
   ]
  },
  {
   "cell_type": "markdown",
   "id": "9ffc4124-7a66-4590-a9dd-a8ef440d5060",
   "metadata": {},
   "source": [
    "Q3. What is DML? Explain INSERT, UPDATE, and DELETE with an example."
   ]
  },
  {
   "cell_type": "markdown",
   "id": "c2c62195-ccbb-45b5-bb33-4b3a448fb3da",
   "metadata": {},
   "source": [
    "Ans: The SQL commands that deals with the manipulation of data present in the database belong to DML or Data Manipulation Language and this includes most of the SQL statements.\n",
    "\n",
    "    1. INSERT: It is used to insert data into a table.\n",
    "        Example: INSERT INTO Student VALUES ('5','HARSH','WEST BENGAL','19');\n",
    "        \n",
    "    2. UPDATE: It is used to update existing data within a table.\n",
    "        Example: UPDATE Customer SET CustomerName  = 'Nitin' WHERE Age = 22;\n",
    "        \n",
    "    3. DELETE: It is used to delete records from a database table.\n",
    "        Example: DELETE FROM GFG_EMPLOyees WHERE NAME = 'Rithvik';"
   ]
  },
  {
   "cell_type": "markdown",
   "id": "ae9e09f3-df57-440b-b2d6-fdaa85fdf142",
   "metadata": {},
   "source": [
    "Q4. What is DQL? Explain SELECT with an example."
   ]
  },
  {
   "cell_type": "markdown",
   "id": "21443aa1-d9bf-49ee-b9f2-1db2f6313aa3",
   "metadata": {},
   "source": [
    "Ans: DQL is a component of SQL statement that allows getting data from the database and imposing order upon it. \n",
    "\n",
    "    1. SELECT: It is used to retrieve data from the database.\n",
    "            Example: SELECT * FROM test_table; "
   ]
  },
  {
   "cell_type": "markdown",
   "id": "e9b80061-92b9-42c6-8283-b788dd7a3ed1",
   "metadata": {},
   "source": [
    "Q5. Explain Primary Key and Foreign Key."
   ]
  },
  {
   "cell_type": "markdown",
   "id": "462aa471-5091-403b-8253-9f5a18ce7ac7",
   "metadata": {},
   "source": [
    "Ans: \n",
    "\n",
    "    1. Primary key:\n",
    "        The PRIMARY KEY constraint uniquely identifies each record in a table. Primary keys must contain UNIQUE values, and cannot contain NULL values. A table can have only ONE primary key; and in the table, this primary key can consist of single or multiple columns (fields).\n",
    "        \n",
    "    2. Foreign key: \n",
    "        A FOREIGN KEY is a field (or collection of fields) in one table, that refers to the PRIMARY KEY in another table."
   ]
  },
  {
   "cell_type": "markdown",
   "id": "3d766793-4af7-422e-9ab3-146ad481a169",
   "metadata": {},
   "source": [
    "Q6. Write a python code to connect MySQL to python. Explain the cursor() and execute() method."
   ]
  },
  {
   "cell_type": "markdown",
   "id": "6562653a-aa3a-4f74-9014-eb94fcc0cf2e",
   "metadata": {},
   "source": [
    "    import mysql.connector\n",
    "\n",
    "    mydb = mysql.connector.connect(\n",
    "\n",
    "      host=\"localhost\",\n",
    "  \n",
    "      user=\"abc\",\n",
    "  \n",
    "      password=\"password\"\n",
    "  \n",
    "    )\n",
    "\n",
    "    mycursor = mydb.cursor()"
   ]
  },
  {
   "cell_type": "markdown",
   "id": "b1f4b775-92e5-4552-815c-0e5e35984f04",
   "metadata": {},
   "source": [
    "    1. cursor(): This method returns a MySQLCursor() object, or a subclass of it. The returned object is a cursor.CursorBase instance.\n",
    "\n",
    "    2. execute(): This method executes the given database operation (query or command)."
   ]
  },
  {
   "cell_type": "markdown",
   "id": "4e15535c-bc81-4ebd-869d-c01a1c6b4efd",
   "metadata": {},
   "source": [
    "Q7. Give the order of execution of SQL clauses in an SQL query."
   ]
  },
  {
   "cell_type": "markdown",
   "id": "090ce26a-51f3-43e1-ac21-831dc307b61e",
   "metadata": {},
   "source": [
    "Ans: \n",
    "\n",
    "    1. FROM\n",
    "    2. WHERE\n",
    "    3. GROUP BY\n",
    "    4. HAVING\n",
    "    5. SELECT\n",
    "    6. ORDER BY\n",
    "    7. LIMIT"
   ]
  },
  {
   "cell_type": "code",
   "execution_count": null,
   "id": "e89df0cf-959e-495c-8319-3a0a60661388",
   "metadata": {},
   "outputs": [],
   "source": []
  }
 ],
 "metadata": {
  "kernelspec": {
   "display_name": "Python 3 (ipykernel)",
   "language": "python",
   "name": "python3"
  },
  "language_info": {
   "codemirror_mode": {
    "name": "ipython",
    "version": 3
   },
   "file_extension": ".py",
   "mimetype": "text/x-python",
   "name": "python",
   "nbconvert_exporter": "python",
   "pygments_lexer": "ipython3",
   "version": "3.10.8"
  }
 },
 "nbformat": 4,
 "nbformat_minor": 5
}
